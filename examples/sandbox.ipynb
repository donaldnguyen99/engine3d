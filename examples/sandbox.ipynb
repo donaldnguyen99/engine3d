{
 "cells": [
  {
   "cell_type": "code",
   "execution_count": 2,
   "metadata": {},
   "outputs": [],
   "source": [
    "%reload_ext autoreload\n",
    "import numpy as np\n",
    "import pygame as pg\n",
    "\n",
    "from engine3d.renderer import Renderer\n",
    "from engine3d.geometry.vector import Vector2D\n",
    "\n",
    "\n",
    "class MyRenderer(Renderer):\n",
    "    def __init__(self, *args, **kwargs):\n",
    "        super().__init__(*args, **kwargs)\n",
    "        self.SCREEN_WIDTH = args[0]\n",
    "        self.SCREEN_HEIGHT = args[1]\n",
    "        self.title = args[2]\n",
    "        self.fps = args[3]\n",
    "        self.H_SCREEN_WIDTH = self.SCREEN_WIDTH // 2\n",
    "        self.H_SCREEN_HEIGHT = self.SCREEN_HEIGHT // 2\n",
    "        self.center = pg.math.Vector2(self.H_SCREEN_WIDTH, self.H_SCREEN_HEIGHT)\n",
    "        self.angle = np.pi / 4\n",
    "\n",
    "    def calc_ray2(self) -> None:\n",
    "        self.ray = pg.math.Vector2(np.sin(self.angle), np.cos(self.angle)) * 3\n",
    "\n",
    "    def calc_ray(self) -> None:\n",
    "        self.ray = pg.math.Vector2(np.sin(self.angle), np.cos(self.angle)) * 3\n",
    "        self._ray = Vector2D(self.ray.x, -self.ray.y)\n",
    "        self.norm = Vector2D(0, 1)\n",
    "        self._refr_ray = self._ray.refract(Vector2D(0, 1), 0.67)\n",
    "        self.refr_ray = pg.math.Vector2(self._refr_ray.x, -self._refr_ray.y)\n",
    "\n",
    "    def handle_events(self) -> None:\n",
    "        \n",
    "        keys = pg.key.get_pressed()\n",
    "        if keys[pg.K_a]:\n",
    "            self.angle += 0.01\n",
    "            self.angle %= 2 * np.pi\n",
    "        if keys[pg.K_d]:\n",
    "            self.angle -= 0.01\n",
    "            self.angle %= 2 * np.pi\n",
    "\n",
    "        for event in pg.event.get():\n",
    "            if event.type == pg.QUIT:\n",
    "                self.running = False\n",
    "                pg.quit()\n",
    "\n",
    "    def draw(self):\n",
    "        self.screen.fill((0,0,0))\n",
    "        self.calc_ray()\n",
    "        # self.calc_ray2()\n",
    "        pg.draw.line(self.screen, (0,0,255), \n",
    "                     pg.math.Vector2(0, self.H_SCREEN_HEIGHT), \n",
    "                     pg.math.Vector2(self.SCREEN_WIDTH, self.H_SCREEN_HEIGHT))\n",
    "        pg.draw.line(self.screen, (0,255,0),\n",
    "                     self.center,\n",
    "                     self.center - self.ray * 10)\n",
    "        pg.draw.line(self.screen, (255,0,0),\n",
    "                     self.center,\n",
    "                     self.center + self.refr_ray * 10)\n",
    "\n",
    "\n",
    "renderer = MyRenderer(720, 480, \"My Renderer\", 60)\n",
    "renderer.run()"
   ]
  },
  {
   "cell_type": "code",
   "execution_count": 3,
   "metadata": {},
   "outputs": [
    {
     "name": "stdout",
     "output_type": "stream",
     "text": [
      "[23 34]\n"
     ]
    }
   ],
   "source": [
    "import numpy as np\n",
    "\n",
    "# from engine3d.geometry.matrix import Matrix2D\n",
    "\n",
    "a = np.array([[1, 2], [3, 4]])\n",
    "b = np.array([5, 6])\n",
    "\n",
    "print(a.__rmatmul__(b))\n"
   ]
  },
  {
   "cell_type": "code",
   "execution_count": 4,
   "metadata": {},
   "outputs": [
    {
     "data": {
      "image/png": "[encoded data removed]",
      "text/plain": [
       "<Figure size 640x480 with 1 Axes>"
      ]
     },
     "metadata": {},
     "output_type": "display_data"
    }
   ],
   "source": [
    "from engine3d.geometry.vector import Vector2D\n",
    "import matplotlib.pyplot as plt\n",
    "\n",
    "v1 = Vector2D(1, 2)\n",
    "v2 = Vector2D(3, 4)\n",
    "n = Vector2D(0, 1)\n",
    "\n",
    "v3 = v1.refract(n, 1.5)\n",
    "\n",
    "def manipulate_v1(v1, angle):\n",
    "    v1.rotate(angle)\n",
    "    return v1\n",
    "\n",
    "# Manipulate the vector on plot\n",
    "\n",
    "plt.axis('equal')\n",
    "plt.grid()\n",
    "plt.xlim(-5, 5)\n",
    "plt.ylim(-5, 5)\n",
    "plt.plot([0, v1.x], [0, v1.y], 'r')\n",
    "plt.plot([0, v3.x], [0, v3.y], 'b')\n",
    "plt.show()"
   ]
  },
  {
   "cell_type": "code",
   "execution_count": null,
   "metadata": {},
   "outputs": [],
   "source": []
  }
 ],
 "metadata": {
  "kernelspec": {
   "display_name": "pygame",
   "language": "python",
   "name": "python3"
  },
  "language_info": {
   "codemirror_mode": {
    "name": "ipython",
    "version": 3
   },
   "file_extension": ".py",
   "mimetype": "text/x-python",
   "name": "python",
   "nbconvert_exporter": "python",
   "pygments_lexer": "ipython3",
   "version": "3.11.6"
  }
 },
 "nbformat": 4,
 "nbformat_minor": 2
}
